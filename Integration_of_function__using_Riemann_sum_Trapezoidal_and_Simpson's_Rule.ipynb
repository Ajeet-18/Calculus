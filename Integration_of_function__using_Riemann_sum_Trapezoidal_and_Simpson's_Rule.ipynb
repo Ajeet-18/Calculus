{
  "nbformat": 4,
  "nbformat_minor": 0,
  "metadata": {
    "colab": {
      "provenance": [],
      "authorship_tag": "ABX9TyMIkEYSGtbBlSV5siJe4CLA",
      "include_colab_link": true
    },
    "kernelspec": {
      "name": "python3",
      "display_name": "Python 3"
    },
    "language_info": {
      "name": "python"
    }
  },
  "cells": [
    {
      "cell_type": "markdown",
      "metadata": {
        "id": "view-in-github",
        "colab_type": "text"
      },
      "source": [
        "<a href=\"https://colab.research.google.com/github/Ajeet-18/Calculus/blob/master/Integration_of_function__using_Riemann_sum_Trapezoidal_and_Simpson's_Rule.ipynb\" target=\"_parent\"><img src=\"https://colab.research.google.com/assets/colab-badge.svg\" alt=\"Open In Colab\"/></a>"
      ]
    },
    {
      "cell_type": "markdown",
      "source": [
        "# Riemann integral\n",
        "## Partitioning the Interval\n",
        "A partition of [a, b] with subintervals $Ik = [xk−1, xk] $is determined by the set\n",
        "of endpoints of the interval\n",
        "$$a=x_{0}<x_{2}<x_{2}.......<x_{n}=b$$\n",
        "There are many ways to choose the partition points, but a common method is to use a regular partition, where the subintervals have equal widths. For example, if we divide the interval [a, b] into n subintervals of equal width delta x, then we can choose the partition points as $x_i = a + Δ x$ for i = 0, 1, ..., n.\n",
        "##Choosing the Tagged Points\n",
        "Once we have partitioned the interval, we need to choose a tagged point within each subinterval\n",
        "There are many ways to choose the tagged points, but a common method is to use the left endpoint of each subinterval, the right endpoint of each subinterval, or the midpoint of each subinterval. These three methods are called the left-endpoint rule, the right-endpoint rule, and the midpoint rule, respectively.\n",
        "##Calculating the Riemann Sum\n",
        "Once we have chosen the partition and the tagged points, we can calculate the Riemann sum by summing the areas of the rectangles defined by the subintervals and the function values at the tagged points. The Riemann sum is given \n",
        "$$Riemann\\,sum\\,=\\sum f(t_{i})(x_{i+1}-x_{i})$$"
      ],
      "metadata": {
        "id": "SnybDk_8b6fM"
      }
    },
    {
      "cell_type": "markdown",
      "source": [
        "# The Trapezoidal Rule\n",
        "To approximate $\\intop_{a}^{b}f(x)dx$, use\n",
        "$$S=\\frac{h}{2}(\\frac{f(x_{0})}{2}+\\frac{f(x_{1})}{2})$$\n",
        "\n",
        "where h is the step size and \n",
        "the y’s are the values of ƒ at the partition points\n",
        "x0 = a, x1 = a + ∆x, x2 = a + 2∆x,..., xn-1 = a + (n - 1)∆x, xn = b,\n",
        "where ∆x = (b - a)/n"
      ],
      "metadata": {
        "id": "AuSmWHG7afvC"
      }
    },
    {
      "cell_type": "markdown",
      "source": [
        "# Simpson’s Rule: \n",
        "To approximate \n",
        "$\\intop_{a}^{b}f(x)dx$  use\n",
        "$$S=h(\\frac{f(x_{0})}{3}+\\frac{4f(x_{1})}{3}+\\frac{f(x_{2})}{3})$$\n",
        "\n",
        "The $f(x_{n})$’s are the values of ƒ at the partition points\n",
        "x0 = a, x1 = a + ∆x, x2 = a + 2∆x,..., xn-1 = a + (n - 1)∆x, xn = b.\n",
        "The number n is even, and ∆x = (b - a)/n"
      ],
      "metadata": {
        "id": "IvtRwuRQWTIz"
      }
    },
    {
      "cell_type": "code",
      "execution_count": 1,
      "metadata": {
        "colab": {
          "base_uri": "https://localhost:8080/"
        },
        "id": "L9n6K9NJHCZV",
        "outputId": "74fb81fa-8537-44d1-c26e-8003c17484cf"
      },
      "outputs": [
        {
          "output_type": "stream",
          "name": "stdout",
          "text": [
            "the result of the integrationis : 8.666666666666668\n",
            "the error estimmate is :  9.621932880084691e-14\n"
          ]
        }
      ],
      "source": [
        "from scipy.integrate import quad\n",
        "\n",
        "def f(x):\n",
        "  return x**2 + 2*x + 1\n",
        "\n",
        "result, error = quad(f, 0 ,2)\n",
        "print(\"the result of the integrationis :\", result)\n",
        "print(\"the error estimmate is : \", error)"
      ]
    },
    {
      "cell_type": "code",
      "source": [
        "def f(x):\n",
        "  return x**2 + 2*x + 1                                       # example function\n",
        "\n",
        "a = 0                                                         # start of interval\n",
        "b = 2                                                         # end of interval\n",
        "N = 10                                                        # number of subintervals\n",
        "riemann_sum_list = []\n",
        "trapezoidal_list = []\n",
        "simpson_list = []\n",
        "delta_inverse_list = []\n",
        "\n",
        "for _ in range(20):\n",
        "\n",
        "    step_size = (b - a) / N                                   # width of each subinterval\n",
        "\n",
        "    # calculate Riemann integration\n",
        "    riemann_sum = sum(f(a + i * step_size + 0.005) * step_size for i in range(N))\n",
        "    riemann_sum_list.append(riemann_sum)\n",
        "\n",
        "    # calculating Trapezoidal integration\n",
        "    trapezoidal= sum((f(a+i*step_size) + f(a+(i+1)*step_size))*step_size/2 for i in range(N))\n",
        "    trapezoidal_list.append(trapezoidal)\n",
        "\n",
        "    # calculating simpsons integration\n",
        "    simpson = sum((f(a+(i)*step_size) + 4*f(a+(i+1)*step_size) + f(a+(i+2)*step_size))*step_size/3 for i in range(N) if i%2 == 0 )\n",
        "    simpson_list.append(simpson)\n",
        "\n",
        "    # calculate 1/delta\n",
        "    delta_inverse = 1 / step_size\n",
        "    delta_inverse_list.append(delta_inverse)\n",
        "\n",
        "    N = N + 10                                                # increasing the number of sub-intervals"
      ],
      "metadata": {
        "id": "bJNS83Qr048U"
      },
      "execution_count": 2,
      "outputs": []
    },
    {
      "cell_type": "code",
      "source": [
        "import matplotlib.pyplot as plt\n",
        "plt.plot( delta_inverse_list, riemann_sum_list, label = \"Riemann's integration\", color = 'red')\n",
        "plt.plot( delta_inverse_list, trapezoidal_list, label = \"Trapezoidal integration\", color = 'blue')\n",
        "plt.plot( delta_inverse_list, simpson_list, label = \"Simpson's integration\", color = 'green')\n",
        "plt.legend()\n",
        "plt.show()"
      ],
      "metadata": {
        "colab": {
          "base_uri": "https://localhost:8080/",
          "height": 430
        },
        "id": "HcKN21krDAX6",
        "outputId": "22f8aac2-72d2-4a2f-d83f-4e6f6432c349"
      },
      "execution_count": 3,
      "outputs": [
        {
          "output_type": "display_data",
          "data": {
            "text/plain": [
              "<Figure size 640x480 with 1 Axes>"
            ],
            "image/png": "[encoded data removed]"
          },
          "metadata": {}
        }
      ]
    }
  ]
}