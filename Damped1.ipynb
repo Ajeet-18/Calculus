{
  "nbformat": 4,
  "nbformat_minor": 0,
  "metadata": {
    "colab": {
      "provenance": []
    },
    "kernelspec": {
      "name": "python3",
      "display_name": "Python 3"
    },
    "language_info": {
      "name": "python"
    }
  },
  "cells": [
    {
      "cell_type": "markdown",
      "source": [
        "Write a python code: Input: A,B,C,Xo,Vo\n",
        "\n",
        "Output: (1)Kind of damping (2)Plot of both independent solution (3)Plot of the final solution\n",
        "\n"
      ],
      "metadata": {
        "id": "JF7tERC31DEn"
      }
    },
    {
      "cell_type": "markdown",
      "source": [
        "1. Over damped case"
      ],
      "metadata": {
        "id": "nPhdTDe316Sm"
      }
    },
    {
      "cell_type": "code",
      "source": [
        "import math"
      ],
      "metadata": {
        "id": "XaUN3PuD1GqC"
      },
      "execution_count": null,
      "outputs": []
    },
    {
      "cell_type": "code",
      "source": [
        "a=int(input('enter a num:'))\n",
        "b=int(input('enter a num:'))\n",
        "c=int(input('enter a num:'))\n",
        "x0=int(input('enter value at t=0:'))\n",
        "v0=int(input('enter value of derivative of x at t=0:'))"
      ],
      "metadata": {
        "colab": {
          "base_uri": "https://localhost:8080/"
        },
        "id": "DEF2vIOb1MAb",
        "outputId": "f7e62ac5-88fa-4531-d0de-0dc365ba94d6"
      },
      "execution_count": null,
      "outputs": [
        {
          "name": "stdout",
          "output_type": "stream",
          "text": [
            "enter a num:3\n",
            "enter a num:5\n",
            "enter a num:1\n",
            "enter value at t=0:2\n",
            "enter value of derivative of x at t=0:1\n"
          ]
        }
      ]
    },
    {
      "cell_type": "code",
      "source": [
        "tlist = [i/100 for i in range(1001)]      \n",
        "d=(b**2-4*a*c)                     # discriminant of the quadratic equation\n",
        "if d>0:\n",
        "  value = 'over damped'\n",
        "elif d == 0:\n",
        "  value = 'critically damped'\n",
        "else:\n",
        "  value = 'under damped' "
      ],
      "metadata": {
        "id": "uaUs1EP21nh2"
      },
      "execution_count": null,
      "outputs": []
    },
    {
      "cell_type": "code",
      "source": [
        "lmda1=(-b-(b**2-4*a*c)**0.5)/2*a         # root of the quadratic equation \n",
        "lmda2=(-b+(b**2-4*a*c)**0.5)/2*a         # root of the quadratic equation\n",
        "if lmda1!=lmda2:\n",
        "  d1=(v0-lmda2*x0)/(lmda1-lmda2)         # coefficient for lmda1\n",
        "  d2=(v0-lmda1*x0)/(lmda2-lmda1)         # coefficient for lmda2\n",
        "else:\n",
        "  d1=x0\n",
        "  d2=v0-lmda2*x0\n",
        "alpha=-b/2*a                             \n",
        "beta=abs((b**2/4*a**2-c/a))**0.5"
      ],
      "metadata": {
        "id": "pltAf-NX1rXc"
      },
      "execution_count": null,
      "outputs": []
    },
    {
      "cell_type": "code",
      "source": [
        "if value == 'over damped':\n",
        "  print('over damped')\n",
        "  xlist = []\n",
        "  for t in tlist:\n",
        "    x=d1*math.exp(lmda1*t)+d2*math.exp(lmda2*t)\n",
        "    xlist.append(x)\n",
        "    # print(x)\n",
        "  # return xlist\n",
        "elif value == 'critically damped':\n",
        "  print('critically damped')\n",
        "  xlist = []\n",
        "  for t in tlist:\n",
        "    x=(x0+(v0-lmda1*x0)*t)*math.exp(lmda1*t)  \n",
        "    xlist.append(x)\n",
        "    # print(x)\n",
        "  # return xlist\n",
        "else:\n",
        "  xlist = []\n",
        "  print('under damped')\n",
        "  for t in tlist:\n",
        "    x=math.exp(alpha*t)*(x0*math.cos(beta*t)+(v0+alpha*x0)*math.sin(beta*t)/beta)\n",
        "    xlist.append(x)"
      ],
      "metadata": {
        "colab": {
          "base_uri": "https://localhost:8080/"
        },
        "id": "8N4iHIwp1wz0",
        "outputId": "9837c643-a58c-44c9-beea-c9534b48163e"
      },
      "execution_count": null,
      "outputs": [
        {
          "output_type": "stream",
          "name": "stdout",
          "text": [
            "over damped\n"
          ]
        }
      ]
    },
    {
      "cell_type": "code",
      "source": [
        "import matplotlib.pyplot as plt\n",
        "plt.plot(tlist, xlist)"
      ],
      "metadata": {
        "colab": {
          "base_uri": "https://localhost:8080/",
          "height": 282
        },
        "id": "HjMnUc4U12pP",
        "outputId": "19d213a9-63b6-4975-b454-3b77b3d00c2b"
      },
      "execution_count": null,
      "outputs": [
        {
          "output_type": "execute_result",
          "data": {
            "text/plain": [
              "[<matplotlib.lines.Line2D at 0x7f210c702820>]"
            ]
          },
          "metadata": {},
          "execution_count": 6
        },
        {
          "output_type": "display_data",
          "data": {
            "text/plain": [
              "<Figure size 432x288 with 1 Axes>"
            ],
            "image/png": "[encoded data removed]"
          },
          "metadata": {
            "needs_background": "light"
          }
        }
      ]
    },
    {
      "cell_type": "markdown",
      "source": [
        "\n",
        "\n",
        "\n",
        "2.Critically damped case\n",
        "\n"
      ],
      "metadata": {
        "id": "H3BRLCsU2EnU"
      }
    },
    {
      "cell_type": "code",
      "source": [
        "import math"
      ],
      "metadata": {
        "id": "zgOfnN7t2N0p"
      },
      "execution_count": null,
      "outputs": []
    },
    {
      "cell_type": "code",
      "source": [
        "2a=int(input('enter a num:'))\n",
        "b=int(input('enter a num:'))\n",
        "c=int(input('enter a num:'))\n",
        "x0=int(input('enter value at t=0:'))\n",
        "v0=int(input('enter value of derivative of x at t=0:'))"
      ],
      "metadata": {
        "colab": {
          "base_uri": "https://localhost:8080/"
        },
        "id": "8FkmTli_2UrO",
        "outputId": "227a7428-fcb5-406b-cd8d-7b8e397a0c29"
      },
      "execution_count": null,
      "outputs": [
        {
          "name": "stdout",
          "output_type": "stream",
          "text": [
            "enter a num:2\n",
            "enter a num:4\n",
            "enter a num:2\n",
            "enter value at t=0:2\n",
            "enter value of derivative of x at t=0:2\n"
          ]
        }
      ]
    },
    {
      "cell_type": "code",
      "source": [
        "tlist = [i/100 for i in range(1001)]      \n",
        "d=(b**2-4*a*c)                     # discriminant of the quadratic equation\n",
        "if d>0:\n",
        "  value = 'over damped'\n",
        "elif d == 0:\n",
        "  value = 'critically damped'\n",
        "else:\n",
        "  value = 'under damped'    \n",
        "  \n",
        "# print(value)\n",
        "# print(tlist)"
      ],
      "metadata": {
        "id": "j9iZH77s2aWb"
      },
      "execution_count": null,
      "outputs": []
    },
    {
      "cell_type": "code",
      "source": [
        "lmda1=(-b-(b**2-4*a*c)**0.5)/2*a         # root of the quadratic equation \n",
        "lmda2=(-b+(b**2-4*a*c)**0.5)/2*a         # root of the quadratic equation\n",
        "if lmda1!=lmda2:\n",
        "  d1=(v0-lmda2*x0)/(lmda1-lmda2)         # coefficient for lmda1\n",
        "  d2=(v0-lmda1*x0)/(lmda2-lmda1)         # coefficient for lmda2\n",
        "else:\n",
        "  d1=x0\n",
        "  d2=v0-lmda2*x0\n",
        "alpha=-b/2*a                             \n",
        "beta=abs((b**2/4*a**2-c/a))**0.5"
      ],
      "metadata": {
        "id": "aAZ9PvTy2hiF"
      },
      "execution_count": null,
      "outputs": []
    },
    {
      "cell_type": "code",
      "source": [
        "if value == 'over damped':\n",
        "  print('over damped')\n",
        "  xlist = []\n",
        "  for t in tlist:\n",
        "    x=d1*math.exp(lmda1*t)+d2*math.exp(lmda2*t)\n",
        "    xlist.append(x)\n",
        "    # print(x)\n",
        "  # return xlist\n",
        "elif value == 'critically damped':\n",
        "  print('critically damped')\n",
        "  xlist = []\n",
        "  for t in tlist:\n",
        "    x=(x0+(v0-lmda1*x0)*t)*math.exp(lmda1*t)  \n",
        "    xlist.append(x)\n",
        "    # print(x)\n",
        "  # return xlist\n",
        "else:\n",
        "  xlist = []\n",
        "  print('under damped')\n",
        "  for t in tlist:\n",
        "    x=math.exp(alpha*t)*(x0*math.cos(beta*t)+(v0+alpha*x0)*math.sin(beta*t)/beta)\n",
        "    xlist.append(x)"
      ],
      "metadata": {
        "colab": {
          "base_uri": "https://localhost:8080/"
        },
        "id": "yO95Dqog3MGu",
        "outputId": "d3f70d20-eb0f-41f1-ea5f-3c7689b61d08"
      },
      "execution_count": null,
      "outputs": [
        {
          "output_type": "stream",
          "name": "stdout",
          "text": [
            "critically damped\n"
          ]
        }
      ]
    },
    {
      "cell_type": "code",
      "source": [
        "import matplotlib.pyplot as plt\n",
        "plt.plot(tlist, xlist)"
      ],
      "metadata": {
        "colab": {
          "base_uri": "https://localhost:8080/",
          "height": 282
        },
        "id": "67pH4pF_3iJX",
        "outputId": "2de38f23-3efc-487c-f34e-c09d37a40c80"
      },
      "execution_count": null,
      "outputs": [
        {
          "output_type": "execute_result",
          "data": {
            "text/plain": [
              "[<matplotlib.lines.Line2D at 0x7f20ed2ea430>]"
            ]
          },
          "metadata": {},
          "execution_count": 20
        },
        {
          "output_type": "display_data",
          "data": {
            "text/plain": [
              "<Figure size 432x288 with 1 Axes>"
            ],
            "image/png": "[encoded data removed]"
          },
          "metadata": {
            "needs_background": "light"
          }
        }
      ]
    },
    {
      "cell_type": "markdown",
      "source": [
        "3.Under damped case"
      ],
      "metadata": {
        "id": "yVKJ-Pqp3kue"
      }
    },
    {
      "cell_type": "code",
      "source": [
        "import math"
      ],
      "metadata": {
        "id": "ik29sNLv3rGb"
      },
      "execution_count": null,
      "outputs": []
    },
    {
      "cell_type": "code",
      "source": [
        "a=int(input('enter a num:'))\n",
        "b=int(input('enter a num:'))\n",
        "c=int(input('enter a num:'))\n",
        "x0=int(input('enter value at t=0:'))\n",
        "v0=int(input('enter value of derivative of x at t=0:'))1"
      ],
      "metadata": {
        "colab": {
          "base_uri": "https://localhost:8080/"
        },
        "id": "mv5gF6Oq3yzn",
        "outputId": "094e8d75-5bae-441a-da0d-39a9988879eb"
      },
      "execution_count": null,
      "outputs": [
        {
          "name": "stdout",
          "output_type": "stream",
          "text": [
            "enter a num:3\n",
            "enter a num:2\n",
            "enter a num:1\n",
            "enter value at t=0:1\n",
            "enter value of derivative of x at t=0:1\n"
          ]
        }
      ]
    },
    {
      "cell_type": "code",
      "source": [
        "tlist = [i/100 for i in range(1001)]      \n",
        "d=(b**2-4*a*c)                     # discriminant of the quadratic equation\n",
        "if d>0:\n",
        "  value = 'over damped'\n",
        "elif d == 0:\n",
        "  value = 'critically damped'\n",
        "else:\n",
        "  value = 'under damped'"
      ],
      "metadata": {
        "id": "k7MA3iCX345k"
      },
      "execution_count": null,
      "outputs": []
    },
    {
      "cell_type": "code",
      "source": [
        "lmda1=(-b-(b**2-4*a*c)**0.5)/2*a         # root of the quadratic equation \n",
        "lmda2=(-b+(b**2-4*a*c)**0.5)/2*a         # root of the quadratic equation\n",
        "if lmda1!=lmda2:\n",
        "  d1=(v0-lmda2*x0)/(lmda1-lmda2)         # coefficient for lmda1\n",
        "  d2=(v0-lmda1*x0)/(lmda2-lmda1)         # coefficient for lmda2\n",
        "else:\n",
        "  d1=x0\n",
        "  d2=v0-lmda2*x0\n",
        "alpha=-b/2*a                             \n",
        "beta=abs((b**2/4*a**2-c/a))**0.5 "
      ],
      "metadata": {
        "id": "p0mK04GM3-SW"
      },
      "execution_count": null,
      "outputs": []
    },
    {
      "cell_type": "code",
      "source": [
        "if value == 'over damped':\n",
        "  print('over damped')\n",
        "  xlist = []\n",
        "  for t in tlist:\n",
        "    x=d1*math.exp(lmda1*t)+d2*math.exp(lmda2*t)\n",
        "    xlist.append(x)\n",
        "    # print(x)\n",
        "  # return xlist\n",
        "elif value == 'critically damped':\n",
        "  print('critically damped')\n",
        "  xlist = []\n",
        "  for t in tlist:\n",
        "    x=(x0+(v0-lmda1*x0)*t)*math.exp(lmda1*t)  \n",
        "    xlist.append(x)\n",
        "    # print(x)\n",
        "  # return xlist\n",
        "else:\n",
        "  xlist = []\n",
        "  print('under damped')\n",
        "  for t in tlist:\n",
        "    x=math.exp(alpha*t)*(x0*math.cos(beta*t)+(v0+alpha*x0)*math.sin(beta*t)/beta)\n",
        "    xlist.append(x)"
      ],
      "metadata": {
        "colab": {
          "base_uri": "https://localhost:8080/"
        },
        "id": "5zds0li_4ACW",
        "outputId": "a09b9b20-8a35-4a73-c6ce-23ecbd3391ca"
      },
      "execution_count": null,
      "outputs": [
        {
          "output_type": "stream",
          "name": "stdout",
          "text": [
            "under damped\n"
          ]
        }
      ]
    },
    {
      "cell_type": "code",
      "source": [
        "import matplotlib.pyplot as plt\n",
        "plt.plot(tlist, xlist)"
      ],
      "metadata": {
        "colab": {
          "base_uri": "https://localhost:8080/",
          "height": 282
        },
        "id": "YxXqxQ7W4IMM",
        "outputId": "c071eb5a-37d0-489c-9b1b-76e3cb803aea"
      },
      "execution_count": null,
      "outputs": [
        {
          "output_type": "execute_result",
          "data": {
            "text/plain": [
              "[<matplotlib.lines.Line2D at 0x7f20ed263130>]"
            ]
          },
          "metadata": {},
          "execution_count": 26
        },
        {
          "output_type": "display_data",
          "data": {
            "text/plain": [
              "<Figure size 432x288 with 1 Axes>"
            ],
            "image/png": "[encoded data removed]"
          },
          "metadata": {
            "needs_background": "light"
          }
        }
      ]
    }
  ]
}