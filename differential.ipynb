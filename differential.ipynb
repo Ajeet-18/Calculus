{
  "nbformat": 4,
  "nbformat_minor": 0,
  "metadata": {
    "colab": {
      "provenance": [],
      "authorship_tag": "ABX9TyOTTOdCIObeqyIoa8b86KGs",
      "include_colab_link": true
    },
    "kernelspec": {
      "name": "python3",
      "display_name": "Python 3"
    },
    "language_info": {
      "name": "python"
    }
  },
  "cells": [
    {
      "cell_type": "markdown",
      "metadata": {
        "id": "view-in-github",
        "colab_type": "text"
      },
      "source": [
        "<a href=\"https://colab.research.google.com/github/Ajeet-18/Calculus/blob/master/differential.ipynb\" target=\"_parent\"><img src=\"https://colab.research.google.com/assets/colab-badge.svg\" alt=\"Open In Colab\"/></a>"
      ]
    },
    {
      "cell_type": "code",
      "source": [
        "import math"
      ],
      "metadata": {
        "id": "TuDOez7BrNzf"
      },
      "execution_count": null,
      "outputs": []
    },
    {
      "cell_type": "code",
      "source": [
        "t0 = float(input('Enter initial point to : '))\n",
        "xn = float(input('Enter initial point(x0) correspondint to t0 : '))\n",
        "h = float(input('Enter steps h : '))"
      ],
      "metadata": {
        "id": "C7MIpw-um2Dr",
        "colab": {
          "base_uri": "https://localhost:8080/"
        },
        "outputId": "86786dca-583f-4c95-9792-c57e0a771a4c"
      },
      "execution_count": null,
      "outputs": [
        {
          "name": "stdout",
          "output_type": "stream",
          "text": [
            "Enter initial point to : 0\n",
            "Enter initial point(x0) correspondint to t0 : 1\n",
            "Enter steps h : 0.1\n"
          ]
        }
      ]
    },
    {
      "cell_type": "code",
      "source": [
        "import math\n",
        "t= [ i/10 for i in range(50)] \n",
        "x = []\n",
        "y = []\n",
        "\n",
        "for k in range(len(t)):\n",
        "\n",
        "  # Euler Method\n",
        "  xn =  xn*h + xn\n",
        "  # appending value for euler methods\n",
        "  x.append(xn) \n",
        "\n",
        "  # For e^x function  \n",
        "  yn = math.exp(t[k])\n",
        "  # appending method for e^x function\n",
        "  y.append(yn)"
      ],
      "metadata": {
        "id": "J5utQvdRkraK"
      },
      "execution_count": null,
      "outputs": []
    },
    {
      "cell_type": "code",
      "source": [
        "import matplotlib.pyplot as plt\n",
        "plt.plot(t,x)\n",
        "plt.plot(t,y)"
      ],
      "metadata": {
        "id": "urlu5vCokvIZ",
        "colab": {
          "base_uri": "https://localhost:8080/",
          "height": 285
        },
        "outputId": "fcb0ad03-ef62-47cb-b537-f987da6bfaf7"
      },
      "execution_count": null,
      "outputs": [
        {
          "output_type": "execute_result",
          "data": {
            "text/plain": [
              "[<matplotlib.lines.Line2D at 0x7f966b664370>]"
            ]
          },
          "metadata": {},
          "execution_count": 4
        },
        {
          "output_type": "display_data",
          "data": {
            "text/plain": [
              "<Figure size 432x288 with 1 Axes>"
            ],
            "image/png": "[encoded data removed]"
          },
          "metadata": {
            "needs_background": "light"
          }
        }
      ]
    },
    {
      "cell_type": "code",
      "source": [
        "# Narrowing the steps and creating list of that\n",
        "h = [0.1/(i) for i in range(1,100)]\n",
        "\n",
        "err = []    # acc for error percentage \n",
        "\n",
        "for k in range(len(h)):\n",
        "\n",
        "  xn = x[5] + h[k]*(x[5])\n",
        "\n",
        "  # Appending the relative error w.r.t e^5 \n",
        "  err.append(abs((y[5]-xn)/y[5]))"
      ],
      "metadata": {
        "id": "iH-nwNimk1Lt"
      },
      "execution_count": null,
      "outputs": []
    },
    {
      "cell_type": "code",
      "source": [
        "import matplotlib.pyplot as plt\n",
        "plt.plot(h,err)"
      ],
      "metadata": {
        "id": "AN_J6WgZk4Yt",
        "colab": {
          "base_uri": "https://localhost:8080/",
          "height": 282
        },
        "outputId": "8e6f1df6-c8a4-4e85-9939-c3836d760e9c"
      },
      "execution_count": null,
      "outputs": [
        {
          "output_type": "execute_result",
          "data": {
            "text/plain": [
              "[<matplotlib.lines.Line2D at 0x7f9649f12a90>]"
            ]
          },
          "metadata": {},
          "execution_count": 6
        },
        {
          "output_type": "display_data",
          "data": {
            "text/plain": [
              "<Figure size 432x288 with 1 Axes>"
            ],
            "image/png": "[encoded data removed]"
          },
          "metadata": {
            "needs_background": "light"
          }
        }
      ]
    }
  ]
}